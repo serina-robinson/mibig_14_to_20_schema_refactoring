{
 "cells": [
  {
   "cell_type": "code",
   "execution_count": 1,
   "metadata": {},
   "outputs": [],
   "source": [
    "###### phase 9: apply manual updates from Marnix_publications_fix_26Jun2019 ######"
   ]
  },
  {
   "cell_type": "code",
   "execution_count": 2,
   "metadata": {},
   "outputs": [],
   "source": [
    "from os import path, makedirs\n",
    "import glob\n",
    "import json\n",
    "import re"
   ]
  },
  {
   "cell_type": "code",
   "execution_count": 3,
   "metadata": {},
   "outputs": [],
   "source": [
    "fixed = {}\n",
    "todo_list = {}\n",
    "retired_list = {}\n",
    "\n",
    "def retire_bgc(bgc_id, issue):\n",
    "    if bgc_id not in retired_list:\n",
    "        retired_list[bgc_id] = []\n",
    "    if issue in retired_list[bgc_id]:\n",
    "        # shouldnt happen\n",
    "        sys.exit(1)\n",
    "    retired_list[bgc_id].append(issue)\n",
    "\n",
    "def solve_issue(bgc_id, issue):\n",
    "    if bgc_id not in fixed:\n",
    "        fixed[bgc_id] = []\n",
    "    if issue in fixed[bgc_id]:\n",
    "        # shouldnt happen\n",
    "        sys.exit(1)\n",
    "    fixed[bgc_id].append(issue)\n",
    "    \n",
    "def add_todo(bgc_id, issue, indexes):\n",
    "    if bgc_id not in todo_list:\n",
    "        todo_list[bgc_id] = {}\n",
    "    todo_list[bgc_id][issue] = indexes"
   ]
  },
  {
   "cell_type": "code",
   "execution_count": null,
   "metadata": {},
   "outputs": [],
   "source": []
  },
  {
   "cell_type": "code",
   "execution_count": null,
   "metadata": {},
   "outputs": [],
   "source": []
  }
 ],
 "metadata": {
  "kernelspec": {
   "display_name": "Python 3",
   "language": "python",
   "name": "python3"
  },
  "language_info": {
   "codemirror_mode": {
    "name": "ipython",
    "version": 3
   },
   "file_extension": ".py",
   "mimetype": "text/x-python",
   "name": "python",
   "nbconvert_exporter": "python",
   "pygments_lexer": "ipython3",
   "version": "3.7.3"
  }
 },
 "nbformat": 4,
 "nbformat_minor": 2
}
