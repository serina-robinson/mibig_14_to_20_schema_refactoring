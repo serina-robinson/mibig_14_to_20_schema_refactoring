{
 "cells": [
  {
   "cell_type": "code",
   "execution_count": 1,
   "metadata": {},
   "outputs": [],
   "source": [
    "from os import path, makedirs"
   ]
  },
  {
   "cell_type": "code",
   "execution_count": 2,
   "metadata": {},
   "outputs": [],
   "source": [
    "paths = {}\n",
    "with open(\"../../preprocessed/reports/p5-unknown_enum_options.tsv\", \"r\") as eo:\n",
    "    for line in eo:\n",
    "        if line.startswith(\"bgc_id\"):\n",
    "            continue\n",
    "        bgc_id, path, value, decision = line.strip().split(\"\\t\")\n",
    "        bgc_id = bgc_id.split(\".\")[0]\n",
    "        value = value.strip()\n",
    "        if decision == \"retire\":\n",
    "            if path not in paths:\n",
    "                paths[path] = {}\n",
    "            if value not in paths[path]:\n",
    "                paths[path][value] = set()\n",
    "            paths[path][value].add(bgc_id)"
   ]
  },
  {
   "cell_type": "code",
   "execution_count": 3,
   "metadata": {},
   "outputs": [],
   "source": [
    "with open(\"../../preprocessed/reports/p5-unknown_enum_summary_for_annotathon.tsv\", \"w\") as eo:\n",
    "    eo.write(\"property\\toriginal_value\\tfinal_value\\tfound_in\\n\")\n",
    "    for path in sorted(paths.keys()):\n",
    "        for i, value in enumerate(sorted(paths[path].keys())):\n",
    "            if i == 0:\n",
    "                eo.write(path)\n",
    "            eo.write(\"\\t{}\\t \\t{}\\n\".format(value, \",\".join(paths[path][value])))"
   ]
  },
  {
   "cell_type": "code",
   "execution_count": null,
   "metadata": {},
   "outputs": [],
   "source": []
  }
 ],
 "metadata": {
  "kernelspec": {
   "display_name": "Python 3",
   "language": "python",
   "name": "python3"
  },
  "language_info": {
   "codemirror_mode": {
    "name": "ipython",
    "version": 3
   },
   "file_extension": ".py",
   "mimetype": "text/x-python",
   "name": "python",
   "nbconvert_exporter": "python",
   "pygments_lexer": "ipython3",
   "version": "3.7.3"
  }
 },
 "nbformat": 4,
 "nbformat_minor": 2
}
